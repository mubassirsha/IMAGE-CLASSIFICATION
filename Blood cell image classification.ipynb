{
 "cells": [
  {
   "cell_type": "code",
   "execution_count": 1,
   "id": "8bd20989",
   "metadata": {},
   "outputs": [],
   "source": [
    "import tensorflow as tf\n",
    "from tensorflow import keras\n",
    "import os\n",
    "import pandas as pd\n",
    "from tensorflow.keras.preprocessing.image import ImageDataGenerator"
   ]
  },
  {
   "cell_type": "code",
   "execution_count": 12,
   "id": "20158ce8",
   "metadata": {},
   "outputs": [],
   "source": [
    "csv_path = 'F:/Deep Learning/Data/Blood cell dataset/dataset2-master/dataset2-master'\n",
    "train_images_path = 'F:/Deep Learning/Data/Blood cell dataset/dataset2-master/dataset2-master/images/TRAIN'\n",
    "test_images_path = 'F:/Deep Learning/Data/Blood cell dataset/dataset2-master/dataset2-master/images/TEST'\n",
    "val_images_path = 'F:/Deep Learning/Data/Blood cell dataset/dataset2-master/dataset2-master/images/TEST_SIMPLE'"
   ]
  },
  {
   "cell_type": "code",
   "execution_count": 13,
   "id": "e526eb82",
   "metadata": {},
   "outputs": [],
   "source": [
    "train_df = pd.read_csv(os.path.join(csv_path, 'labels.csv'))"
   ]
  },
  {
   "cell_type": "code",
   "execution_count": 22,
   "id": "76af3ff2",
   "metadata": {},
   "outputs": [
    {
     "name": "stdout",
     "output_type": "stream",
     "text": [
      "Found 9957 images belonging to 4 classes.\n",
      "Found 71 images belonging to 4 classes.\n",
      "Found 2487 images belonging to 4 classes.\n"
     ]
    }
   ],
   "source": [
    "datagen = ImageDataGenerator(rescale=1./225.)\n",
    "train_generator = datagen.flow_from_directory(\n",
    "                                        directory = train_images_path,\n",
    "                                        batch_size = 32,\n",
    "                                        seed = 42,\n",
    "                                        shuffle = True,\n",
    "                                        class_mode = \"categorical\",\n",
    "                                        target_size = (128,128),\n",
    "                                        color_mode = 'rgb')\n",
    "\n",
    "valid_generator = datagen.flow_from_directory(\n",
    "                                        directory = val_images_path,\n",
    "                                        batch_size = 32,\n",
    "                                        seed = 42,\n",
    "                                        shuffle = True,\n",
    "                                        class_mode = \"categorical\",\n",
    "                                        target_size = (128,128),\n",
    "                                        color_mode = 'rgb')\n",
    "\n",
    "test_datagen = ImageDataGenerator(rescale=1./255.)\n",
    "test_generator = test_datagen.flow_from_directory(\n",
    "                                        directory = test_images_path,\n",
    "                                        batch_size = 32,\n",
    "                                        seed = 42,\n",
    "                                        shuffle = True,\n",
    "                                        class_mode = \"categorical\",\n",
    "                                        target_size = (64,64),\n",
    "                                        color_mode = 'rgb')"
   ]
  },
  {
   "cell_type": "markdown",
   "id": "94d94e9a",
   "metadata": {},
   "source": [
    "# Model Architecture"
   ]
  },
  {
   "cell_type": "code",
   "execution_count": null,
   "id": "7b1611e7",
   "metadata": {},
   "outputs": [],
   "source": [
    "from tensorflow.keras.applications.inception_v3 import InceptionV3\n",
    "from tensorflow.keras.preprocessing import image\n",
    "from tensorflow.keras.models import Model\n",
    "#from tensorflow.keras.layers import Dense, GlobalAveragePooling2D\n",
    "\n",
    "# create the base pre-trained model\n",
    "base_model = InceptionV3(weights='imagenet', include_top=False)\n",
    "\n",
    "# add a global spatial average pooling layer\n",
    "x = base_model.output\n",
    "x = GlobalAveragePooling2D()(x)\n",
    "# let's add a fully-connected layer\n",
    "x = Dense(1024, activation='relu')(x)\n",
    "# and a logistic layer -- let's say we have 200 classes\n",
    "predictions = Dense(200, activation='softmax')(x)\n",
    "\n",
    "# this is the model we will train\n",
    "model = Model(inputs=base_model.input, outputs=predictions)\n",
    "\n",
    "# first: train only the top layers (which were randomly initialized)\n",
    "# i.e. freeze all convolutional InceptionV3 layers\n",
    "for layer in base_model.layers:\n",
    "    layer.trainable = False\n",
    "\n",
    "# compile the model (should be done *after* setting layers to non-trainable)\n",
    "model.compile(optimizer='rmsprop', loss='categorical_crossentropy')\n",
    "\n",
    "# train the model on the new data for a few epochs\n",
    "model.fit(...)"
   ]
  }
 ],
 "metadata": {
  "kernelspec": {
   "display_name": "nikhil_tf_cpu",
   "language": "python",
   "name": "nikhil_tf_cpu"
  },
  "language_info": {
   "codemirror_mode": {
    "name": "ipython",
    "version": 3
   },
   "file_extension": ".py",
   "mimetype": "text/x-python",
   "name": "python",
   "nbconvert_exporter": "python",
   "pygments_lexer": "ipython3",
   "version": "3.9.7"
  }
 },
 "nbformat": 4,
 "nbformat_minor": 5
}
